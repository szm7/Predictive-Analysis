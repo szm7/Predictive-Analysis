{
  "cells": [
    {
      "cell_type": "markdown",
      "metadata": {
        "id": "JLhXHvwV3mUh"
      },
      "source": [
        "**Pima Indians Diabetes Database**\n",
        "\n",
        "The objective is to diagnostically predict whether or not a patient has diabetes, based on certain diagnostic measurements included in the dataset.\n"
      ]
    },
    {
      "cell_type": "code",
      "execution_count": 1,
      "metadata": {
        "id": "rwqQTceP3s9D"
      },
      "outputs": [],
      "source": [
        "import pandas as pd\n",
        "import numpy as np\n",
        "import matplotlib.pyplot as plt\n",
        "import seaborn as sns"
      ]
    },
    {
      "cell_type": "code",
      "execution_count": 2,
      "metadata": {
        "colab": {
          "base_uri": "https://localhost:8080/",
          "height": 424
        },
        "id": "0a7kndP03x7e",
        "outputId": "53ab8d01-3fff-4750-8553-bda79dcd60dd"
      },
      "outputs": [
        {
          "data": {
            "text/html": [
              "<div>\n",
              "<style scoped>\n",
              "    .dataframe tbody tr th:only-of-type {\n",
              "        vertical-align: middle;\n",
              "    }\n",
              "\n",
              "    .dataframe tbody tr th {\n",
              "        vertical-align: top;\n",
              "    }\n",
              "\n",
              "    .dataframe thead th {\n",
              "        text-align: right;\n",
              "    }\n",
              "</style>\n",
              "<table border=\"1\" class=\"dataframe\">\n",
              "  <thead>\n",
              "    <tr style=\"text-align: right;\">\n",
              "      <th></th>\n",
              "      <th>gender</th>\n",
              "      <th>age</th>\n",
              "      <th>hypertension</th>\n",
              "      <th>heart_disease</th>\n",
              "      <th>smoking_history</th>\n",
              "      <th>bmi</th>\n",
              "      <th>HbA1c_level</th>\n",
              "      <th>blood_glucose_level</th>\n",
              "      <th>diabetes</th>\n",
              "    </tr>\n",
              "  </thead>\n",
              "  <tbody>\n",
              "    <tr>\n",
              "      <th>0</th>\n",
              "      <td>Female</td>\n",
              "      <td>80.0</td>\n",
              "      <td>0</td>\n",
              "      <td>1</td>\n",
              "      <td>never</td>\n",
              "      <td>25.19</td>\n",
              "      <td>6.6</td>\n",
              "      <td>140</td>\n",
              "      <td>0</td>\n",
              "    </tr>\n",
              "    <tr>\n",
              "      <th>1</th>\n",
              "      <td>Female</td>\n",
              "      <td>54.0</td>\n",
              "      <td>0</td>\n",
              "      <td>0</td>\n",
              "      <td>No Info</td>\n",
              "      <td>27.32</td>\n",
              "      <td>6.6</td>\n",
              "      <td>80</td>\n",
              "      <td>0</td>\n",
              "    </tr>\n",
              "    <tr>\n",
              "      <th>2</th>\n",
              "      <td>Male</td>\n",
              "      <td>28.0</td>\n",
              "      <td>0</td>\n",
              "      <td>0</td>\n",
              "      <td>never</td>\n",
              "      <td>27.32</td>\n",
              "      <td>5.7</td>\n",
              "      <td>158</td>\n",
              "      <td>0</td>\n",
              "    </tr>\n",
              "    <tr>\n",
              "      <th>3</th>\n",
              "      <td>Female</td>\n",
              "      <td>36.0</td>\n",
              "      <td>0</td>\n",
              "      <td>0</td>\n",
              "      <td>current</td>\n",
              "      <td>23.45</td>\n",
              "      <td>5.0</td>\n",
              "      <td>155</td>\n",
              "      <td>0</td>\n",
              "    </tr>\n",
              "    <tr>\n",
              "      <th>4</th>\n",
              "      <td>Male</td>\n",
              "      <td>76.0</td>\n",
              "      <td>1</td>\n",
              "      <td>1</td>\n",
              "      <td>current</td>\n",
              "      <td>20.14</td>\n",
              "      <td>4.8</td>\n",
              "      <td>155</td>\n",
              "      <td>0</td>\n",
              "    </tr>\n",
              "    <tr>\n",
              "      <th>...</th>\n",
              "      <td>...</td>\n",
              "      <td>...</td>\n",
              "      <td>...</td>\n",
              "      <td>...</td>\n",
              "      <td>...</td>\n",
              "      <td>...</td>\n",
              "      <td>...</td>\n",
              "      <td>...</td>\n",
              "      <td>...</td>\n",
              "    </tr>\n",
              "    <tr>\n",
              "      <th>99995</th>\n",
              "      <td>Female</td>\n",
              "      <td>80.0</td>\n",
              "      <td>0</td>\n",
              "      <td>0</td>\n",
              "      <td>No Info</td>\n",
              "      <td>27.32</td>\n",
              "      <td>6.2</td>\n",
              "      <td>90</td>\n",
              "      <td>0</td>\n",
              "    </tr>\n",
              "    <tr>\n",
              "      <th>99996</th>\n",
              "      <td>Female</td>\n",
              "      <td>2.0</td>\n",
              "      <td>0</td>\n",
              "      <td>0</td>\n",
              "      <td>No Info</td>\n",
              "      <td>17.37</td>\n",
              "      <td>6.5</td>\n",
              "      <td>100</td>\n",
              "      <td>0</td>\n",
              "    </tr>\n",
              "    <tr>\n",
              "      <th>99997</th>\n",
              "      <td>Male</td>\n",
              "      <td>66.0</td>\n",
              "      <td>0</td>\n",
              "      <td>0</td>\n",
              "      <td>former</td>\n",
              "      <td>27.83</td>\n",
              "      <td>5.7</td>\n",
              "      <td>155</td>\n",
              "      <td>0</td>\n",
              "    </tr>\n",
              "    <tr>\n",
              "      <th>99998</th>\n",
              "      <td>Female</td>\n",
              "      <td>24.0</td>\n",
              "      <td>0</td>\n",
              "      <td>0</td>\n",
              "      <td>never</td>\n",
              "      <td>35.42</td>\n",
              "      <td>4.0</td>\n",
              "      <td>100</td>\n",
              "      <td>0</td>\n",
              "    </tr>\n",
              "    <tr>\n",
              "      <th>99999</th>\n",
              "      <td>Female</td>\n",
              "      <td>57.0</td>\n",
              "      <td>0</td>\n",
              "      <td>0</td>\n",
              "      <td>current</td>\n",
              "      <td>22.43</td>\n",
              "      <td>6.6</td>\n",
              "      <td>90</td>\n",
              "      <td>0</td>\n",
              "    </tr>\n",
              "  </tbody>\n",
              "</table>\n",
              "<p>100000 rows × 9 columns</p>\n",
              "</div>"
            ],
            "text/plain": [
              "       gender   age  hypertension  heart_disease smoking_history    bmi  \\\n",
              "0      Female  80.0             0              1           never  25.19   \n",
              "1      Female  54.0             0              0         No Info  27.32   \n",
              "2        Male  28.0             0              0           never  27.32   \n",
              "3      Female  36.0             0              0         current  23.45   \n",
              "4        Male  76.0             1              1         current  20.14   \n",
              "...       ...   ...           ...            ...             ...    ...   \n",
              "99995  Female  80.0             0              0         No Info  27.32   \n",
              "99996  Female   2.0             0              0         No Info  17.37   \n",
              "99997    Male  66.0             0              0          former  27.83   \n",
              "99998  Female  24.0             0              0           never  35.42   \n",
              "99999  Female  57.0             0              0         current  22.43   \n",
              "\n",
              "       HbA1c_level  blood_glucose_level  diabetes  \n",
              "0              6.6                  140         0  \n",
              "1              6.6                   80         0  \n",
              "2              5.7                  158         0  \n",
              "3              5.0                  155         0  \n",
              "4              4.8                  155         0  \n",
              "...            ...                  ...       ...  \n",
              "99995          6.2                   90         0  \n",
              "99996          6.5                  100         0  \n",
              "99997          5.7                  155         0  \n",
              "99998          4.0                  100         0  \n",
              "99999          6.6                   90         0  \n",
              "\n",
              "[100000 rows x 9 columns]"
            ]
          },
          "execution_count": 2,
          "metadata": {},
          "output_type": "execute_result"
        }
      ],
      "source": [
        "data=pd.read_csv(\"/Users/saninzulphi/Downloads/dpf.csv\")\n",
        "data"
      ]
    },
    {
      "cell_type": "code",
      "execution_count": 3,
      "metadata": {
        "colab": {
          "base_uri": "https://localhost:8080/",
          "height": 206
        },
        "id": "wTYNs28AorYE",
        "outputId": "65739724-e75c-4478-bb4e-273c722f7c71"
      },
      "outputs": [
        {
          "data": {
            "text/html": [
              "<div>\n",
              "<style scoped>\n",
              "    .dataframe tbody tr th:only-of-type {\n",
              "        vertical-align: middle;\n",
              "    }\n",
              "\n",
              "    .dataframe tbody tr th {\n",
              "        vertical-align: top;\n",
              "    }\n",
              "\n",
              "    .dataframe thead th {\n",
              "        text-align: right;\n",
              "    }\n",
              "</style>\n",
              "<table border=\"1\" class=\"dataframe\">\n",
              "  <thead>\n",
              "    <tr style=\"text-align: right;\">\n",
              "      <th></th>\n",
              "      <th>gender</th>\n",
              "      <th>age</th>\n",
              "      <th>hypertension</th>\n",
              "      <th>heart_disease</th>\n",
              "      <th>smoking_history</th>\n",
              "      <th>bmi</th>\n",
              "      <th>HbA1c_level</th>\n",
              "      <th>blood_glucose_level</th>\n",
              "      <th>diabetes</th>\n",
              "    </tr>\n",
              "  </thead>\n",
              "  <tbody>\n",
              "    <tr>\n",
              "      <th>0</th>\n",
              "      <td>Female</td>\n",
              "      <td>80.0</td>\n",
              "      <td>0</td>\n",
              "      <td>1</td>\n",
              "      <td>never</td>\n",
              "      <td>25.19</td>\n",
              "      <td>6.6</td>\n",
              "      <td>140</td>\n",
              "      <td>0</td>\n",
              "    </tr>\n",
              "    <tr>\n",
              "      <th>1</th>\n",
              "      <td>Female</td>\n",
              "      <td>54.0</td>\n",
              "      <td>0</td>\n",
              "      <td>0</td>\n",
              "      <td>No Info</td>\n",
              "      <td>27.32</td>\n",
              "      <td>6.6</td>\n",
              "      <td>80</td>\n",
              "      <td>0</td>\n",
              "    </tr>\n",
              "    <tr>\n",
              "      <th>2</th>\n",
              "      <td>Male</td>\n",
              "      <td>28.0</td>\n",
              "      <td>0</td>\n",
              "      <td>0</td>\n",
              "      <td>never</td>\n",
              "      <td>27.32</td>\n",
              "      <td>5.7</td>\n",
              "      <td>158</td>\n",
              "      <td>0</td>\n",
              "    </tr>\n",
              "    <tr>\n",
              "      <th>3</th>\n",
              "      <td>Female</td>\n",
              "      <td>36.0</td>\n",
              "      <td>0</td>\n",
              "      <td>0</td>\n",
              "      <td>current</td>\n",
              "      <td>23.45</td>\n",
              "      <td>5.0</td>\n",
              "      <td>155</td>\n",
              "      <td>0</td>\n",
              "    </tr>\n",
              "    <tr>\n",
              "      <th>4</th>\n",
              "      <td>Male</td>\n",
              "      <td>76.0</td>\n",
              "      <td>1</td>\n",
              "      <td>1</td>\n",
              "      <td>current</td>\n",
              "      <td>20.14</td>\n",
              "      <td>4.8</td>\n",
              "      <td>155</td>\n",
              "      <td>0</td>\n",
              "    </tr>\n",
              "  </tbody>\n",
              "</table>\n",
              "</div>"
            ],
            "text/plain": [
              "   gender   age  hypertension  heart_disease smoking_history    bmi  \\\n",
              "0  Female  80.0             0              1           never  25.19   \n",
              "1  Female  54.0             0              0         No Info  27.32   \n",
              "2    Male  28.0             0              0           never  27.32   \n",
              "3  Female  36.0             0              0         current  23.45   \n",
              "4    Male  76.0             1              1         current  20.14   \n",
              "\n",
              "   HbA1c_level  blood_glucose_level  diabetes  \n",
              "0          6.6                  140         0  \n",
              "1          6.6                   80         0  \n",
              "2          5.7                  158         0  \n",
              "3          5.0                  155         0  \n",
              "4          4.8                  155         0  "
            ]
          },
          "execution_count": 3,
          "metadata": {},
          "output_type": "execute_result"
        }
      ],
      "source": [
        "data.head()"
      ]
    },
    {
      "cell_type": "code",
      "execution_count": 4,
      "metadata": {
        "colab": {
          "base_uri": "https://localhost:8080/"
        },
        "id": "vT3qBi454A-t",
        "outputId": "6c8cf1af-7747-4520-9961-7c8392e03b29"
      },
      "outputs": [
        {
          "name": "stdout",
          "output_type": "stream",
          "text": [
            "<class 'pandas.core.frame.DataFrame'>\n",
            "RangeIndex: 100000 entries, 0 to 99999\n",
            "Data columns (total 9 columns):\n",
            " #   Column               Non-Null Count   Dtype  \n",
            "---  ------               --------------   -----  \n",
            " 0   gender               100000 non-null  object \n",
            " 1   age                  100000 non-null  float64\n",
            " 2   hypertension         100000 non-null  int64  \n",
            " 3   heart_disease        100000 non-null  int64  \n",
            " 4   smoking_history      100000 non-null  object \n",
            " 5   bmi                  100000 non-null  float64\n",
            " 6   HbA1c_level          100000 non-null  float64\n",
            " 7   blood_glucose_level  100000 non-null  int64  \n",
            " 8   diabetes             100000 non-null  int64  \n",
            "dtypes: float64(3), int64(4), object(2)\n",
            "memory usage: 6.9+ MB\n"
          ]
        }
      ],
      "source": [
        "data.info()"
      ]
    },
    {
      "cell_type": "code",
      "execution_count": 5,
      "metadata": {
        "colab": {
          "base_uri": "https://localhost:8080/"
        },
        "id": "uZSX8XOPoXsN",
        "outputId": "f18fb05d-c926-4b53-b8e3-5bbd6ad9bb24"
      },
      "outputs": [
        {
          "data": {
            "text/plain": [
              "Index(['gender', 'age', 'hypertension', 'heart_disease', 'smoking_history',\n",
              "       'bmi', 'HbA1c_level', 'blood_glucose_level', 'diabetes'],\n",
              "      dtype='object')"
            ]
          },
          "execution_count": 5,
          "metadata": {},
          "output_type": "execute_result"
        }
      ],
      "source": [
        "data.columns"
      ]
    },
    {
      "cell_type": "code",
      "execution_count": 6,
      "metadata": {
        "colab": {
          "base_uri": "https://localhost:8080/"
        },
        "id": "Yok1iU2YATaA",
        "outputId": "0daa58f7-5096-4f61-a781-b88838bd7125"
      },
      "outputs": [
        {
          "name": "stdout",
          "output_type": "stream",
          "text": [
            "gender                 0\n",
            "age                    0\n",
            "hypertension           0\n",
            "heart_disease          0\n",
            "smoking_history        0\n",
            "bmi                    0\n",
            "HbA1c_level            0\n",
            "blood_glucose_level    0\n",
            "diabetes               0\n",
            "dtype: int64\n"
          ]
        }
      ],
      "source": [
        "# check for missing values\n",
        "print(data.isnull().sum())"
      ]
    },
    {
      "cell_type": "code",
      "execution_count": 7,
      "metadata": {
        "colab": {
          "base_uri": "https://localhost:8080/"
        },
        "id": "3a7ezcz8Ok38",
        "outputId": "982b726b-86ba-4755-fb8b-92658b74ecd8"
      },
      "outputs": [
        {
          "data": {
            "text/plain": [
              "(100000, 9)"
            ]
          },
          "execution_count": 7,
          "metadata": {},
          "output_type": "execute_result"
        }
      ],
      "source": [
        "data.shape"
      ]
    },
    {
      "cell_type": "markdown",
      "metadata": {
        "id": "mVRA3crEwts3"
      },
      "source": [
        "this is the no of rows and columsn that we have in our dataset.\n",
        "\n",
        "it has 100000 records with 9 different columns"
      ]
    },
    {
      "cell_type": "code",
      "execution_count": 8,
      "metadata": {
        "colab": {
          "base_uri": "https://localhost:8080/"
        },
        "id": "jQFuNFidAmKj",
        "outputId": "76c51433-ab84-4324-d3a9-126590cf41ca"
      },
      "outputs": [
        {
          "name": "stdout",
          "output_type": "stream",
          "text": [
            "diabetes\n",
            "0    91500\n",
            "1     8500\n",
            "Name: count, dtype: int64\n"
          ]
        }
      ],
      "source": [
        "print(data['diabetes'].value_counts())\n"
      ]
    },
    {
      "cell_type": "markdown",
      "metadata": {
        "id": "LxAEA9PSw6zb"
      },
      "source": [
        "people with diabetes are marked as 1 and the absence of diabetes are depicted as 0\n",
        "\n",
        "from the above calculation we can evidently see that the people with diabetes are lesser than people without them."
      ]
    },
    {
      "cell_type": "code",
      "execution_count": 9,
      "metadata": {
        "colab": {
          "base_uri": "https://localhost:8080/"
        },
        "id": "aG5gD3WiqNOA",
        "outputId": "483fdfa5-33bf-4468-c3e9-7755ba6810af"
      },
      "outputs": [
        {
          "name": "stdout",
          "output_type": "stream",
          "text": [
            "smoking_history\n",
            "No Info        35816\n",
            "never          35095\n",
            "former          9352\n",
            "current         9286\n",
            "not current     6447\n",
            "ever            4004\n",
            "Name: count, dtype: int64\n"
          ]
        }
      ],
      "source": [
        "print(data['smoking_history'].value_counts())\n"
      ]
    },
    {
      "cell_type": "markdown",
      "metadata": {
        "id": "IYvhFRUtxcib"
      },
      "source": [
        "this is the category of types of smokers as presented in the selected dataset."
      ]
    },
    {
      "cell_type": "markdown",
      "metadata": {
        "id": "oM4sKZ4IA10P"
      },
      "source": [
        "**DATA** **VISUALIZATION**\n",
        "\n"
      ]
    },
    {
      "cell_type": "code",
      "execution_count": 10,
      "metadata": {
        "colab": {
          "base_uri": "https://localhost:8080/",
          "height": 830
        },
        "id": "cjTvUhgRBArE",
        "outputId": "6b50beea-3984-439c-b49f-5868f1c90ce9"
      },
      "outputs": [
        {
          "data": {
            "image/png": "[encoded data removed]",
            "text/plain": [
              "<Figure size 1500x1200 with 9 Axes>"
            ]
          },
          "metadata": {},
          "output_type": "display_data"
        }
      ],
      "source": [
        "data.hist(bins=30, figsize=(15,12))\n",
        "plt.show()"
      ]
    },
    {
      "cell_type": "markdown",
      "metadata": {
        "id": "42an3bh0xnRn"
      },
      "source": [
        "this is some basic data visualizations done to understand the data better."
      ]
    },
    {
      "cell_type": "code",
      "execution_count": 11,
      "metadata": {
        "colab": {
          "base_uri": "https://localhost:8080/",
          "height": 206
        },
        "id": "fumvymqZCkno",
        "outputId": "ca54d962-58c5-46a6-e409-565058c3ddae"
      },
      "outputs": [
        {
          "data": {
            "text/html": [
              "<div>\n",
              "<style scoped>\n",
              "    .dataframe tbody tr th:only-of-type {\n",
              "        vertical-align: middle;\n",
              "    }\n",
              "\n",
              "    .dataframe tbody tr th {\n",
              "        vertical-align: top;\n",
              "    }\n",
              "\n",
              "    .dataframe thead th {\n",
              "        text-align: right;\n",
              "    }\n",
              "</style>\n",
              "<table border=\"1\" class=\"dataframe\">\n",
              "  <thead>\n",
              "    <tr style=\"text-align: right;\">\n",
              "      <th></th>\n",
              "      <th>gender</th>\n",
              "      <th>age</th>\n",
              "      <th>hypertension</th>\n",
              "      <th>heart_disease</th>\n",
              "      <th>smoking_history</th>\n",
              "      <th>bmi</th>\n",
              "      <th>HbA1c_level</th>\n",
              "      <th>blood_glucose_level</th>\n",
              "      <th>diabetes</th>\n",
              "    </tr>\n",
              "  </thead>\n",
              "  <tbody>\n",
              "    <tr>\n",
              "      <th>0</th>\n",
              "      <td>Female</td>\n",
              "      <td>80.0</td>\n",
              "      <td>0</td>\n",
              "      <td>1</td>\n",
              "      <td>never</td>\n",
              "      <td>25.19</td>\n",
              "      <td>6.6</td>\n",
              "      <td>140</td>\n",
              "      <td>0</td>\n",
              "    </tr>\n",
              "    <tr>\n",
              "      <th>1</th>\n",
              "      <td>Female</td>\n",
              "      <td>54.0</td>\n",
              "      <td>0</td>\n",
              "      <td>0</td>\n",
              "      <td>No Info</td>\n",
              "      <td>27.32</td>\n",
              "      <td>6.6</td>\n",
              "      <td>80</td>\n",
              "      <td>0</td>\n",
              "    </tr>\n",
              "    <tr>\n",
              "      <th>4</th>\n",
              "      <td>Male</td>\n",
              "      <td>76.0</td>\n",
              "      <td>1</td>\n",
              "      <td>1</td>\n",
              "      <td>current</td>\n",
              "      <td>20.14</td>\n",
              "      <td>4.8</td>\n",
              "      <td>155</td>\n",
              "      <td>0</td>\n",
              "    </tr>\n",
              "    <tr>\n",
              "      <th>7</th>\n",
              "      <td>Female</td>\n",
              "      <td>79.0</td>\n",
              "      <td>0</td>\n",
              "      <td>0</td>\n",
              "      <td>No Info</td>\n",
              "      <td>23.86</td>\n",
              "      <td>5.7</td>\n",
              "      <td>85</td>\n",
              "      <td>0</td>\n",
              "    </tr>\n",
              "    <tr>\n",
              "      <th>10</th>\n",
              "      <td>Female</td>\n",
              "      <td>53.0</td>\n",
              "      <td>0</td>\n",
              "      <td>0</td>\n",
              "      <td>never</td>\n",
              "      <td>27.32</td>\n",
              "      <td>6.1</td>\n",
              "      <td>85</td>\n",
              "      <td>0</td>\n",
              "    </tr>\n",
              "  </tbody>\n",
              "</table>\n",
              "</div>"
            ],
            "text/plain": [
              "    gender   age  hypertension  heart_disease smoking_history    bmi  \\\n",
              "0   Female  80.0             0              1           never  25.19   \n",
              "1   Female  54.0             0              0         No Info  27.32   \n",
              "4     Male  76.0             1              1         current  20.14   \n",
              "7   Female  79.0             0              0         No Info  23.86   \n",
              "10  Female  53.0             0              0           never  27.32   \n",
              "\n",
              "    HbA1c_level  blood_glucose_level  diabetes  \n",
              "0           6.6                  140         0  \n",
              "1           6.6                   80         0  \n",
              "4           4.8                  155         0  \n",
              "7           5.7                   85         0  \n",
              "10          6.1                   85         0  "
            ]
          },
          "execution_count": 11,
          "metadata": {},
          "output_type": "execute_result"
        }
      ],
      "source": [
        "# data analysis of patients of age above 50\n",
        "over_50=data[data[\"age\"]>50];\n",
        "over_50.head()"
      ]
    },
    {
      "cell_type": "markdown",
      "metadata": {
        "id": "7RjbZAFxKdWu"
      },
      "source": [
        "Here we can see the data of patients above the age of 50, as they are more prone to diabetes."
      ]
    },
    {
      "cell_type": "code",
      "execution_count": 12,
      "metadata": {
        "id": "hROXjMgoElV4"
      },
      "outputs": [],
      "source": [
        "from sklearn.preprocessing import LabelEncoder\n",
        "\n",
        "# Create a label encoder instance\n",
        "le = LabelEncoder()\n",
        "\n",
        "# Encode 'gender'\n",
        "data['gender'] = le.fit_transform(data['gender'])  # Female -> 0, Male -> 1\n",
        "\n",
        "# Encode 'smoking_history'\n",
        "data['smoking_history'] = le.fit_transform(data['smoking_history'])\n",
        "# Categories might be encoded as: never -> 0, former -> 1, current -> 2, etc.\n"
      ]
    },
    {
      "cell_type": "code",
      "execution_count": 13,
      "metadata": {
        "colab": {
          "base_uri": "https://localhost:8080/"
        },
        "id": "XbX1yKxgl1_k",
        "outputId": "2548c8d9-d734-4dab-bd1a-8d0cef5d881e"
      },
      "outputs": [
        {
          "data": {
            "text/plain": [
              "array([4, 0, 1, 3, 2, 5])"
            ]
          },
          "execution_count": 13,
          "metadata": {},
          "output_type": "execute_result"
        }
      ],
      "source": [
        "data['smoking_history'].unique()"
      ]
    },
    {
      "cell_type": "code",
      "execution_count": 14,
      "metadata": {
        "colab": {
          "base_uri": "https://localhost:8080/",
          "height": 206
        },
        "id": "pbju-Zy0lwHG",
        "outputId": "1bb9bc12-4146-4b59-daed-fb4551912a98"
      },
      "outputs": [
        {
          "data": {
            "text/html": [
              "<div>\n",
              "<style scoped>\n",
              "    .dataframe tbody tr th:only-of-type {\n",
              "        vertical-align: middle;\n",
              "    }\n",
              "\n",
              "    .dataframe tbody tr th {\n",
              "        vertical-align: top;\n",
              "    }\n",
              "\n",
              "    .dataframe thead th {\n",
              "        text-align: right;\n",
              "    }\n",
              "</style>\n",
              "<table border=\"1\" class=\"dataframe\">\n",
              "  <thead>\n",
              "    <tr style=\"text-align: right;\">\n",
              "      <th></th>\n",
              "      <th>gender</th>\n",
              "      <th>age</th>\n",
              "      <th>hypertension</th>\n",
              "      <th>heart_disease</th>\n",
              "      <th>smoking_history</th>\n",
              "      <th>bmi</th>\n",
              "      <th>HbA1c_level</th>\n",
              "      <th>blood_glucose_level</th>\n",
              "      <th>diabetes</th>\n",
              "    </tr>\n",
              "  </thead>\n",
              "  <tbody>\n",
              "    <tr>\n",
              "      <th>0</th>\n",
              "      <td>0</td>\n",
              "      <td>80.0</td>\n",
              "      <td>0</td>\n",
              "      <td>1</td>\n",
              "      <td>4</td>\n",
              "      <td>25.19</td>\n",
              "      <td>6.6</td>\n",
              "      <td>140</td>\n",
              "      <td>0</td>\n",
              "    </tr>\n",
              "    <tr>\n",
              "      <th>1</th>\n",
              "      <td>0</td>\n",
              "      <td>54.0</td>\n",
              "      <td>0</td>\n",
              "      <td>0</td>\n",
              "      <td>0</td>\n",
              "      <td>27.32</td>\n",
              "      <td>6.6</td>\n",
              "      <td>80</td>\n",
              "      <td>0</td>\n",
              "    </tr>\n",
              "    <tr>\n",
              "      <th>2</th>\n",
              "      <td>1</td>\n",
              "      <td>28.0</td>\n",
              "      <td>0</td>\n",
              "      <td>0</td>\n",
              "      <td>4</td>\n",
              "      <td>27.32</td>\n",
              "      <td>5.7</td>\n",
              "      <td>158</td>\n",
              "      <td>0</td>\n",
              "    </tr>\n",
              "    <tr>\n",
              "      <th>3</th>\n",
              "      <td>0</td>\n",
              "      <td>36.0</td>\n",
              "      <td>0</td>\n",
              "      <td>0</td>\n",
              "      <td>1</td>\n",
              "      <td>23.45</td>\n",
              "      <td>5.0</td>\n",
              "      <td>155</td>\n",
              "      <td>0</td>\n",
              "    </tr>\n",
              "    <tr>\n",
              "      <th>4</th>\n",
              "      <td>1</td>\n",
              "      <td>76.0</td>\n",
              "      <td>1</td>\n",
              "      <td>1</td>\n",
              "      <td>1</td>\n",
              "      <td>20.14</td>\n",
              "      <td>4.8</td>\n",
              "      <td>155</td>\n",
              "      <td>0</td>\n",
              "    </tr>\n",
              "  </tbody>\n",
              "</table>\n",
              "</div>"
            ],
            "text/plain": [
              "   gender   age  hypertension  heart_disease  smoking_history    bmi  \\\n",
              "0       0  80.0             0              1                4  25.19   \n",
              "1       0  54.0             0              0                0  27.32   \n",
              "2       1  28.0             0              0                4  27.32   \n",
              "3       0  36.0             0              0                1  23.45   \n",
              "4       1  76.0             1              1                1  20.14   \n",
              "\n",
              "   HbA1c_level  blood_glucose_level  diabetes  \n",
              "0          6.6                  140         0  \n",
              "1          6.6                   80         0  \n",
              "2          5.7                  158         0  \n",
              "3          5.0                  155         0  \n",
              "4          4.8                  155         0  "
            ]
          },
          "execution_count": 14,
          "metadata": {},
          "output_type": "execute_result"
        }
      ],
      "source": [
        "data.head()"
      ]
    },
    {
      "cell_type": "code",
      "execution_count": 15,
      "metadata": {
        "colab": {
          "base_uri": "https://localhost:8080/"
        },
        "id": "kBEORquOpdBq",
        "outputId": "78cb5d7f-ce16-49f2-9701-6f22df28dc92"
      },
      "outputs": [
        {
          "data": {
            "text/plain": [
              "Index(['gender', 'age', 'hypertension', 'heart_disease', 'smoking_history',\n",
              "       'bmi', 'HbA1c_level', 'blood_glucose_level', 'diabetes'],\n",
              "      dtype='object')"
            ]
          },
          "execution_count": 15,
          "metadata": {},
          "output_type": "execute_result"
        }
      ],
      "source": [
        "data.columns\n"
      ]
    },
    {
      "cell_type": "code",
      "execution_count": 16,
      "metadata": {
        "colab": {
          "base_uri": "https://localhost:8080/",
          "height": 428
        },
        "id": "7kemOhH2sQEO",
        "outputId": "c8c0954d-337a-4cd0-944b-40b828cfeac8"
      },
      "outputs": [
        {
          "data": {
            "image/png": "[encoded data removed]",
            "text/plain": [
              "<Figure size 640x480 with 1 Axes>"
            ]
          },
          "metadata": {},
          "output_type": "display_data"
        }
      ],
      "source": [
        "data['diabetes'].value_counts().plot(kind='pie', autopct='%1.1f%%')\n",
        "plt.title('Class Distribution of Diabetes')\n",
        "plt.show()"
      ]
    },
    {
      "cell_type": "markdown",
      "metadata": {
        "id": "HKxvoWKfyguq"
      },
      "source": [
        "#Heatmap"
      ]
    },
    {
      "cell_type": "code",
      "execution_count": 17,
      "metadata": {
        "colab": {
          "base_uri": "https://localhost:8080/",
          "height": 1000
        },
        "id": "DvjqJRZw5Tj_",
        "outputId": "01f5ca9c-3924-458d-f5b9-eaae5954b1a0"
      },
      "outputs": [
        {
          "data": {
            "image/png": "[encoded data removed]",
            "text/plain": [
              "<Figure size 1000x800 with 2 Axes>"
            ]
          },
          "metadata": {},
          "output_type": "display_data"
        },
        {
          "name": "stdout",
          "output_type": "stream",
          "text": [
            "                       gender       age  hypertension  heart_disease  \\\n",
            "gender               1.000000 -0.030656      0.014203       0.077696   \n",
            "age                 -0.030656  1.000000      0.251171       0.233354   \n",
            "hypertension         0.014203  0.251171      1.000000       0.121262   \n",
            "heart_disease        0.077696  0.233354      0.121262       1.000000   \n",
            "smoking_history     -0.077919  0.228608      0.093177       0.027598   \n",
            "bmi                 -0.022994  0.337396      0.147666       0.061198   \n",
            "HbA1c_level          0.019957  0.101354      0.080939       0.067589   \n",
            "blood_glucose_level  0.017199  0.110672      0.084429       0.070066   \n",
            "diabetes             0.037411  0.258008      0.197823       0.171727   \n",
            "\n",
            "                     smoking_history       bmi  HbA1c_level  \\\n",
            "gender                     -0.077919 -0.022994     0.019957   \n",
            "age                         0.228608  0.337396     0.101354   \n",
            "hypertension                0.093177  0.147666     0.080939   \n",
            "heart_disease               0.027598  0.061198     0.067589   \n",
            "smoking_history             1.000000  0.179361     0.037369   \n",
            "bmi                         0.179361  1.000000     0.082997   \n",
            "HbA1c_level                 0.037369  0.082997     1.000000   \n",
            "blood_glucose_level         0.040219  0.091261     0.166733   \n",
            "diabetes                    0.094290  0.214357     0.400660   \n",
            "\n",
            "                     blood_glucose_level  diabetes  \n",
            "gender                          0.017199  0.037411  \n",
            "age                             0.110672  0.258008  \n",
            "hypertension                    0.084429  0.197823  \n",
            "heart_disease                   0.070066  0.171727  \n",
            "smoking_history                 0.040219  0.094290  \n",
            "bmi                             0.091261  0.214357  \n",
            "HbA1c_level                     0.166733  0.400660  \n",
            "blood_glucose_level             1.000000  0.419558  \n",
            "diabetes                        0.419558  1.000000  \n"
          ]
        }
      ],
      "source": [
        "corr = data.corr()\n",
        "figure_size = (10, 8)\n",
        "plt.figure(figsize=figure_size)\n",
        "sns.heatmap(corr, annot=True, cmap='coolwarm')\n",
        "plt.title('Correlation Heatmap')\n",
        "plt.show()\n",
        "print(corr)"
      ]
    },
    {
      "cell_type": "markdown",
      "metadata": {
        "id": "0UBThu9Bykx2"
      },
      "source": [
        "this is the correlation heatmap. where we can see the only 2 columns with good correlation are HbA1c_level and blood_glucose_level.\n",
        "\n",
        "Age also has a moderate correlation with diabetes, indicating that diabetes risk increases with age.\n",
        "\n",
        "BMI has a moderate correlation with diabetes, reflecting that higher body mass index increases the likelihood of developing diabetes.\n",
        "\n",
        "Gender, smoking history and heart disease doesn’t have a strong correlation with diabetes, suggesting it is not playing a dominant role."
      ]
    },
    {
      "cell_type": "code",
      "execution_count": 18,
      "metadata": {
        "colab": {
          "base_uri": "https://localhost:8080/",
          "height": 206
        },
        "id": "y66RsaRsrAZa",
        "outputId": "808f3d83-0837-43f8-a343-d3e29df6a684"
      },
      "outputs": [
        {
          "data": {
            "text/html": [
              "<div>\n",
              "<style scoped>\n",
              "    .dataframe tbody tr th:only-of-type {\n",
              "        vertical-align: middle;\n",
              "    }\n",
              "\n",
              "    .dataframe tbody tr th {\n",
              "        vertical-align: top;\n",
              "    }\n",
              "\n",
              "    .dataframe thead th {\n",
              "        text-align: right;\n",
              "    }\n",
              "</style>\n",
              "<table border=\"1\" class=\"dataframe\">\n",
              "  <thead>\n",
              "    <tr style=\"text-align: right;\">\n",
              "      <th></th>\n",
              "      <th>gender</th>\n",
              "      <th>age</th>\n",
              "      <th>hypertension</th>\n",
              "      <th>heart_disease</th>\n",
              "      <th>smoking_history</th>\n",
              "      <th>bmi</th>\n",
              "      <th>HbA1c_level</th>\n",
              "      <th>blood_glucose_level</th>\n",
              "      <th>diabetes</th>\n",
              "    </tr>\n",
              "  </thead>\n",
              "  <tbody>\n",
              "    <tr>\n",
              "      <th>0</th>\n",
              "      <td>0</td>\n",
              "      <td>80.0</td>\n",
              "      <td>0</td>\n",
              "      <td>1</td>\n",
              "      <td>4</td>\n",
              "      <td>25.19</td>\n",
              "      <td>6.6</td>\n",
              "      <td>140</td>\n",
              "      <td>0</td>\n",
              "    </tr>\n",
              "    <tr>\n",
              "      <th>1</th>\n",
              "      <td>0</td>\n",
              "      <td>54.0</td>\n",
              "      <td>0</td>\n",
              "      <td>0</td>\n",
              "      <td>0</td>\n",
              "      <td>27.32</td>\n",
              "      <td>6.6</td>\n",
              "      <td>80</td>\n",
              "      <td>0</td>\n",
              "    </tr>\n",
              "    <tr>\n",
              "      <th>2</th>\n",
              "      <td>1</td>\n",
              "      <td>28.0</td>\n",
              "      <td>0</td>\n",
              "      <td>0</td>\n",
              "      <td>4</td>\n",
              "      <td>27.32</td>\n",
              "      <td>5.7</td>\n",
              "      <td>158</td>\n",
              "      <td>0</td>\n",
              "    </tr>\n",
              "    <tr>\n",
              "      <th>3</th>\n",
              "      <td>0</td>\n",
              "      <td>36.0</td>\n",
              "      <td>0</td>\n",
              "      <td>0</td>\n",
              "      <td>1</td>\n",
              "      <td>23.45</td>\n",
              "      <td>5.0</td>\n",
              "      <td>155</td>\n",
              "      <td>0</td>\n",
              "    </tr>\n",
              "    <tr>\n",
              "      <th>4</th>\n",
              "      <td>1</td>\n",
              "      <td>76.0</td>\n",
              "      <td>1</td>\n",
              "      <td>1</td>\n",
              "      <td>1</td>\n",
              "      <td>20.14</td>\n",
              "      <td>4.8</td>\n",
              "      <td>155</td>\n",
              "      <td>0</td>\n",
              "    </tr>\n",
              "  </tbody>\n",
              "</table>\n",
              "</div>"
            ],
            "text/plain": [
              "   gender   age  hypertension  heart_disease  smoking_history    bmi  \\\n",
              "0       0  80.0             0              1                4  25.19   \n",
              "1       0  54.0             0              0                0  27.32   \n",
              "2       1  28.0             0              0                4  27.32   \n",
              "3       0  36.0             0              0                1  23.45   \n",
              "4       1  76.0             1              1                1  20.14   \n",
              "\n",
              "   HbA1c_level  blood_glucose_level  diabetes  \n",
              "0          6.6                  140         0  \n",
              "1          6.6                   80         0  \n",
              "2          5.7                  158         0  \n",
              "3          5.0                  155         0  \n",
              "4          4.8                  155         0  "
            ]
          },
          "execution_count": 18,
          "metadata": {},
          "output_type": "execute_result"
        }
      ],
      "source": [
        "data.head()"
      ]
    },
    {
      "cell_type": "code",
      "execution_count": 19,
      "metadata": {
        "colab": {
          "base_uri": "https://localhost:8080/"
        },
        "id": "GHbExA1GQSUG",
        "outputId": "1f1bb3ce-ca25-4d6e-b6c8-34e3b11329f1"
      },
      "outputs": [
        {
          "data": {
            "text/plain": [
              "Index(['gender', 'age', 'hypertension', 'heart_disease', 'smoking_history',\n",
              "       'bmi', 'HbA1c_level', 'blood_glucose_level', 'diabetes'],\n",
              "      dtype='object')"
            ]
          },
          "execution_count": 19,
          "metadata": {},
          "output_type": "execute_result"
        }
      ],
      "source": [
        "data.columns\n"
      ]
    },
    {
      "cell_type": "markdown",
      "metadata": {
        "id": "VeVPEPUs67ay"
      },
      "source": [
        "**DATA PREPROCESSING**"
      ]
    },
    {
      "cell_type": "code",
      "execution_count": 20,
      "metadata": {
        "id": "JDL6tqO77BXu"
      },
      "outputs": [],
      "source": [
        "from sklearn.preprocessing import StandardScaler\n",
        "\n",
        "# Selecting the numerical columns\n",
        "numerical_cols = ['age', 'bmi', 'HbA1c_level', 'blood_glucose_level']\n",
        "\n",
        "# Apply StandardScaler\n",
        "scaler = StandardScaler()\n",
        "data[numerical_cols] = scaler.fit_transform(data[numerical_cols])\n"
      ]
    },
    {
      "cell_type": "markdown",
      "metadata": {
        "id": "8z2tCD0Izcnb"
      },
      "source": [
        "then i have used standar scaler to scale the useful columns\n",
        "\n",
        "StandardScaler standardizes the data by removing the mean and scaling it to unit variance. This helps many machine learning algorithms perform better because they assume features are on a similar scale.\n",
        "\n",
        "gender, hypertension, heart_disease, and smoking_history are already encoded as categorical features (0 and 1 or 0-4). These do not need scaling."
      ]
    },
    {
      "cell_type": "markdown",
      "metadata": {
        "id": "Lt-WXjvEzvQj"
      },
      "source": [
        "I haeve also decided to discard the gender, heart_disease, and smoking_history columsn as they are less relevant and may reduce the accuracy of the overall model."
      ]
    },
    {
      "cell_type": "code",
      "execution_count": 21,
      "metadata": {
        "colab": {
          "base_uri": "https://localhost:8080/",
          "height": 226
        },
        "id": "9VNGsB53RtkV",
        "outputId": "6cd61e78-6b5e-4169-d5be-ebac01dc16ff"
      },
      "outputs": [
        {
          "data": {
            "text/html": [
              "<div>\n",
              "<style scoped>\n",
              "    .dataframe tbody tr th:only-of-type {\n",
              "        vertical-align: middle;\n",
              "    }\n",
              "\n",
              "    .dataframe tbody tr th {\n",
              "        vertical-align: top;\n",
              "    }\n",
              "\n",
              "    .dataframe thead th {\n",
              "        text-align: right;\n",
              "    }\n",
              "</style>\n",
              "<table border=\"1\" class=\"dataframe\">\n",
              "  <thead>\n",
              "    <tr style=\"text-align: right;\">\n",
              "      <th></th>\n",
              "      <th>gender</th>\n",
              "      <th>age</th>\n",
              "      <th>hypertension</th>\n",
              "      <th>heart_disease</th>\n",
              "      <th>smoking_history</th>\n",
              "      <th>bmi</th>\n",
              "      <th>HbA1c_level</th>\n",
              "      <th>blood_glucose_level</th>\n",
              "      <th>diabetes</th>\n",
              "    </tr>\n",
              "  </thead>\n",
              "  <tbody>\n",
              "    <tr>\n",
              "      <th>0</th>\n",
              "      <td>0</td>\n",
              "      <td>1.692704</td>\n",
              "      <td>0</td>\n",
              "      <td>1</td>\n",
              "      <td>4</td>\n",
              "      <td>-0.321056</td>\n",
              "      <td>1.001706</td>\n",
              "      <td>0.047704</td>\n",
              "      <td>0</td>\n",
              "    </tr>\n",
              "    <tr>\n",
              "      <th>1</th>\n",
              "      <td>0</td>\n",
              "      <td>0.538006</td>\n",
              "      <td>0</td>\n",
              "      <td>0</td>\n",
              "      <td>0</td>\n",
              "      <td>-0.000116</td>\n",
              "      <td>1.001706</td>\n",
              "      <td>-1.426210</td>\n",
              "      <td>0</td>\n",
              "    </tr>\n",
              "    <tr>\n",
              "      <th>2</th>\n",
              "      <td>1</td>\n",
              "      <td>-0.616691</td>\n",
              "      <td>0</td>\n",
              "      <td>0</td>\n",
              "      <td>4</td>\n",
              "      <td>-0.000116</td>\n",
              "      <td>0.161108</td>\n",
              "      <td>0.489878</td>\n",
              "      <td>0</td>\n",
              "    </tr>\n",
              "    <tr>\n",
              "      <th>3</th>\n",
              "      <td>0</td>\n",
              "      <td>-0.261399</td>\n",
              "      <td>0</td>\n",
              "      <td>0</td>\n",
              "      <td>1</td>\n",
              "      <td>-0.583232</td>\n",
              "      <td>-0.492690</td>\n",
              "      <td>0.416183</td>\n",
              "      <td>0</td>\n",
              "    </tr>\n",
              "    <tr>\n",
              "      <th>4</th>\n",
              "      <td>1</td>\n",
              "      <td>1.515058</td>\n",
              "      <td>1</td>\n",
              "      <td>1</td>\n",
              "      <td>1</td>\n",
              "      <td>-1.081970</td>\n",
              "      <td>-0.679490</td>\n",
              "      <td>0.416183</td>\n",
              "      <td>0</td>\n",
              "    </tr>\n",
              "  </tbody>\n",
              "</table>\n",
              "</div>"
            ],
            "text/plain": [
              "   gender       age  hypertension  heart_disease  smoking_history       bmi  \\\n",
              "0       0  1.692704             0              1                4 -0.321056   \n",
              "1       0  0.538006             0              0                0 -0.000116   \n",
              "2       1 -0.616691             0              0                4 -0.000116   \n",
              "3       0 -0.261399             0              0                1 -0.583232   \n",
              "4       1  1.515058             1              1                1 -1.081970   \n",
              "\n",
              "   HbA1c_level  blood_glucose_level  diabetes  \n",
              "0     1.001706             0.047704         0  \n",
              "1     1.001706            -1.426210         0  \n",
              "2     0.161108             0.489878         0  \n",
              "3    -0.492690             0.416183         0  \n",
              "4    -0.679490             0.416183         0  "
            ]
          },
          "execution_count": 21,
          "metadata": {},
          "output_type": "execute_result"
        }
      ],
      "source": [
        "data.head()"
      ]
    },
    {
      "cell_type": "code",
      "execution_count": 22,
      "metadata": {
        "id": "7cVRe3aD7q8g"
      },
      "outputs": [],
      "source": [
        "# Model Building\n",
        "\n",
        "from sklearn.model_selection import train_test_split\n",
        "from sklearn.linear_model import LogisticRegression\n",
        "from sklearn.metrics import f1_score, classification_report, accuracy_score\n",
        "\n",
        "#splitting the data into train and test set\n",
        "x = data.drop(['diabetes','smoking_history','heart_disease', 'gender'], axis=1)\n",
        "y=data['diabetes']\n",
        "\n",
        "x_train, x_test, y_train, y_test=train_test_split(x,y, test_size=0.2, random_state=42)"
      ]
    },
    {
      "cell_type": "markdown",
      "metadata": {
        "id": "Z6Qo9JsIz9EK"
      },
      "source": [
        "the logistic regression model even though it is a\n",
        "basic model give good accuracy of 95 perc. which means that the model correclty classifies the data 95 perc of the time"
      ]
    },
    {
      "cell_type": "code",
      "execution_count": 23,
      "metadata": {
        "colab": {
          "base_uri": "https://localhost:8080/"
        },
        "id": "nbyxc77SI9E5",
        "outputId": "30e0c031-2250-4a51-9f7d-a03efcf41dd4"
      },
      "outputs": [
        {
          "name": "stdout",
          "output_type": "stream",
          "text": [
            "Accuracy: 0.97\n",
            "              precision    recall  f1-score   support\n",
            "\n",
            "           0       0.97      0.99      0.98     18292\n",
            "           1       0.91      0.70      0.79      1708\n",
            "\n",
            "    accuracy                           0.97     20000\n",
            "   macro avg       0.94      0.85      0.89     20000\n",
            "weighted avg       0.97      0.97      0.97     20000\n",
            "\n"
          ]
        }
      ],
      "source": [
        "# using randomforestclassification model\n",
        "\n",
        "from sklearn.ensemble import RandomForestClassifier\n",
        "\n",
        "#initialize the model\n",
        "rf=RandomForestClassifier(n_estimators=100, random_state=42)\n",
        "rf.fit(x_train, y_train)\n",
        "\n",
        "#predicting the model\n",
        "y_preds2=rf.predict(x_test)\n",
        "\n",
        "# Accuracy\n",
        "accuracy = accuracy_score(y_test, y_preds2)\n",
        "print(f'Accuracy: {accuracy:.2f}')\n",
        "\n",
        "# Classification Report\n",
        "print(classification_report(y_test, y_preds2))"
      ]
    },
    {
      "cell_type": "code",
      "execution_count": 24,
      "metadata": {
        "colab": {
          "base_uri": "https://localhost:8080/"
        },
        "id": "1a-XRntjuZFm",
        "outputId": "adb7bbd5-a411-4b6b-b026-1842931d2871"
      },
      "outputs": [
        {
          "name": "stdout",
          "output_type": "stream",
          "text": [
            "diabetes\n",
            "1    8500\n",
            "0    8500\n",
            "Name: count, dtype: int64\n"
          ]
        }
      ],
      "source": [
        "from sklearn.utils import resample\n",
        "\n",
        "# Separate majority and minority classes\n",
        "majority_class = data[data['diabetes'] == 0]\n",
        "minority_class = data[data['diabetes'] == 1]\n",
        "\n",
        "# Random undersample majority class\n",
        "majority_class_undersampled = resample(majority_class,\n",
        "                                       replace=False,   # Sample without replacement\n",
        "                                       n_samples=len(minority_class),  # Match minority class count\n",
        "                                       random_state=42)  # For reproducibility\n",
        "\n",
        "# Combine minority class with the undersampled majority class\n",
        "balanced_data = pd.concat([majority_class_undersampled, minority_class])\n",
        "\n",
        "# Shuffle the balanced dataset\n",
        "balanced_data = balanced_data.sample(frac=1, random_state=42)\n",
        "\n",
        "# Check the new class distribution\n",
        "print(balanced_data['diabetes'].value_counts())"
      ]
    },
    {
      "cell_type": "code",
      "execution_count": 25,
      "metadata": {
        "id": "WWQNuqYLufY1"
      },
      "outputs": [],
      "source": [
        "# Model Building\n",
        "\n",
        "from sklearn.model_selection import train_test_split\n",
        "from sklearn.linear_model import LogisticRegression\n",
        "from sklearn.metrics import f1_score, classification_report, accuracy_score\n",
        "\n",
        "#splitting the data into train and test set\n",
        "xbal = balanced_data.drop(['diabetes','smoking_history','heart_disease', 'gender'], axis=1)\n",
        "ybal =balanced_data['diabetes']\n",
        "\n",
        "x_train_bal, x_test_bal, y_train_bal, y_test_bal=train_test_split(xbal,ybal, test_size=0.2, random_state=42)"
      ]
    },
    {
      "cell_type": "code",
      "execution_count": 26,
      "metadata": {
        "colab": {
          "base_uri": "https://localhost:8080/"
        },
        "id": "AeDf1-vDvQZA",
        "outputId": "ee48a8cb-e766-46a1-86ad-a43857808dcb"
      },
      "outputs": [
        {
          "name": "stdout",
          "output_type": "stream",
          "text": [
            "Accuracy: 0.90\n",
            "              precision    recall  f1-score   support\n",
            "\n",
            "           0       0.90      0.89      0.89      1698\n",
            "           1       0.89      0.90      0.90      1702\n",
            "\n",
            "    accuracy                           0.90      3400\n",
            "   macro avg       0.90      0.89      0.89      3400\n",
            "weighted avg       0.90      0.90      0.89      3400\n",
            "\n"
          ]
        }
      ],
      "source": [
        "# using randomforestclassification model\n",
        "\n",
        "from sklearn.ensemble import RandomForestClassifier\n",
        "\n",
        "#initialize the model\n",
        "rf=RandomForestClassifier(n_estimators=100, random_state=42)\n",
        "rf.fit(x_train_bal, y_train_bal)\n",
        "\n",
        "#predicting the model\n",
        "y_predsbal2=rf.predict(x_test_bal)\n",
        "\n",
        "# Accuracy\n",
        "accuracy = accuracy_score(y_test_bal, y_predsbal2)\n",
        "print(f'Accuracy: {accuracy:.2f}')\n",
        "\n",
        "# Classification Report\n",
        "print(classification_report(y_test_bal, y_predsbal2))"
      ]
    },
    {
      "cell_type": "code",
      "execution_count": 27,
      "metadata": {
        "colab": {
          "base_uri": "https://localhost:8080/"
        },
        "id": "z0BhuUa3vE09",
        "outputId": "075d4b4d-b3d6-489d-8bb3-9c76fefc43a1"
      },
      "outputs": [
        {
          "name": "stdout",
          "output_type": "stream",
          "text": [
            "diabetes\n",
            "1    91500\n",
            "0    91500\n",
            "Name: count, dtype: int64\n"
          ]
        }
      ],
      "source": [
        "# Import necessary libraries\n",
        "from sklearn.utils import resample\n",
        "\n",
        "# Separate majority and minority classes\n",
        "majority_class = data[data['diabetes'] == 0]  # Class 0 (Majority)\n",
        "minority_class = data[data['diabetes'] == 1]  # Class 1 (Minority)\n",
        "\n",
        "# Random oversample (uppersample) minority class\n",
        "minority_class_oversampled = resample(minority_class,\n",
        "                                      replace=True,    # Sample with replacement\n",
        "                                      n_samples=len(majority_class),  # Match the majority class count\n",
        "                                      random_state=42)  # For reproducibility\n",
        "\n",
        "# Combine the oversampled minority class with the majority class\n",
        "balanced_dataUS = pd.concat([majority_class, minority_class_oversampled])\n",
        "\n",
        "# Shuffle the balanced dataset to mix the classes\n",
        "balanced_dataUS = balanced_dataUS.sample(frac=1, random_state=42)\n",
        "\n",
        "# Check the new class distribution\n",
        "print(balanced_dataUS['diabetes'].value_counts())\n"
      ]
    },
    {
      "cell_type": "code",
      "execution_count": 28,
      "metadata": {
        "id": "V2it12Dxw7kd"
      },
      "outputs": [],
      "source": [
        "# Model Building\n",
        "\n",
        "from sklearn.model_selection import train_test_split\n",
        "from sklearn.linear_model import LogisticRegression\n",
        "from sklearn.metrics import f1_score, classification_report, accuracy_score\n",
        "\n",
        "#splitting the data into train and test set\n",
        "xbalUS = balanced_dataUS.drop(['diabetes','smoking_history','heart_disease', 'gender'], axis=1)\n",
        "ybalUS =balanced_dataUS['diabetes']\n",
        "\n",
        "x_train_balUS, x_test_balUS, y_train_balUS, y_test_balUS=train_test_split(xbalUS,ybalUS, test_size=0.2, random_state=42)"
      ]
    },
    {
      "cell_type": "code",
      "execution_count": 29,
      "metadata": {
        "colab": {
          "base_uri": "https://localhost:8080/"
        },
        "id": "0l_5xGodyAu7",
        "outputId": "c7b38fed-7fee-4a8a-8a9c-bc07de92bf23"
      },
      "outputs": [
        {
          "name": "stdout",
          "output_type": "stream",
          "text": [
            "Accuracy: 0.99\n",
            "              precision    recall  f1-score   support\n",
            "\n",
            "           0       1.00      0.97      0.98     18315\n",
            "           1       0.97      1.00      0.99     18285\n",
            "\n",
            "    accuracy                           0.99     36600\n",
            "   macro avg       0.99      0.99      0.99     36600\n",
            "weighted avg       0.99      0.99      0.99     36600\n",
            "\n"
          ]
        }
      ],
      "source": [
        "# using randomforestclassification model\n",
        "\n",
        "from sklearn.ensemble import RandomForestClassifier\n",
        "\n",
        "#initialize the model\n",
        "rf=RandomForestClassifier(n_estimators=100, random_state=42)\n",
        "rf.fit(x_train_balUS, y_train_balUS)\n",
        "\n",
        "#predicting the model\n",
        "y_predsbal2US=rf.predict(x_test_balUS)\n",
        "\n",
        "# Accuracy\n",
        "accuracy = accuracy_score(y_test_balUS, y_predsbal2US)\n",
        "print(f'Accuracy: {accuracy:.2f}')\n",
        "\n",
        "# Classification Report\n",
        "print(classification_report(y_test_balUS, y_predsbal2US))"
      ]
    },
    {
      "cell_type": "code",
      "execution_count": 32,
      "metadata": {},
      "outputs": [
        {
          "name": "stdout",
          "output_type": "stream",
          "text": [
            "Defaulting to user installation because normal site-packages is not writeable\n",
            "Collecting imbalanced-learn\n",
            "  Downloading imbalanced_learn-0.12.4-py3-none-any.whl.metadata (8.3 kB)\n",
            "Requirement already satisfied: numpy>=1.17.3 in /Users/saninzulphi/Library/Python/3.11/lib/python/site-packages (from imbalanced-learn) (1.26.4)\n",
            "Requirement already satisfied: scipy>=1.5.0 in /Users/saninzulphi/Library/Python/3.11/lib/python/site-packages (from imbalanced-learn) (1.12.0)\n",
            "Requirement already satisfied: scikit-learn>=1.0.2 in /Users/saninzulphi/Library/Python/3.11/lib/python/site-packages (from imbalanced-learn) (1.4.1.post1)\n",
            "Requirement already satisfied: joblib>=1.1.1 in /Users/saninzulphi/Library/Python/3.11/lib/python/site-packages (from imbalanced-learn) (1.3.2)\n",
            "Requirement already satisfied: threadpoolctl>=2.0.0 in /Users/saninzulphi/Library/Python/3.11/lib/python/site-packages (from imbalanced-learn) (3.4.0)\n",
            "Downloading imbalanced_learn-0.12.4-py3-none-any.whl (258 kB)\n",
            "Installing collected packages: imbalanced-learn\n",
            "Successfully installed imbalanced-learn-0.12.4\n",
            "Note: you may need to restart the kernel to use updated packages.\n"
          ]
        }
      ],
      "source": [
        "pip install imbalanced-learn"
      ]
    },
    {
      "cell_type": "code",
      "execution_count": 33,
      "metadata": {
        "id": "ZaF6yMCHswyw"
      },
      "outputs": [],
      "source": [
        "from imblearn.over_sampling import SMOTE\n",
        "smote = SMOTE(random_state=42)\n",
        "\n",
        "#splitting the data into train and test set\n",
        "x = data.drop(['diabetes','smoking_history','heart_disease', 'gender'], axis=1)\n",
        "y=data['diabetes']\n",
        "\n",
        "X_resampled, y_resampled = smote.fit_resample(x, y)\n",
        "\n",
        "x_trainSM, x_testSM, y_trainSM, y_testSM =train_test_split(X_resampled,y_resampled, test_size=0.2, random_state=42)\n"
      ]
    },
    {
      "cell_type": "code",
      "execution_count": 34,
      "metadata": {
        "colab": {
          "base_uri": "https://localhost:8080/"
        },
        "id": "-KVpMIaBs85_",
        "outputId": "8c0bb699-f238-4c47-bf2d-1fc77b7b40d1"
      },
      "outputs": [
        {
          "name": "stdout",
          "output_type": "stream",
          "text": [
            "Accuracy: 0.98\n",
            "              precision    recall  f1-score   support\n",
            "\n",
            "           0       0.98      0.98      0.98     18293\n",
            "           1       0.98      0.98      0.98     18307\n",
            "\n",
            "    accuracy                           0.98     36600\n",
            "   macro avg       0.98      0.98      0.98     36600\n",
            "weighted avg       0.98      0.98      0.98     36600\n",
            "\n"
          ]
        }
      ],
      "source": [
        "# using randomforestclassification model\n",
        "\n",
        "from sklearn.ensemble import RandomForestClassifier\n",
        "\n",
        "#initialize the model\n",
        "rf=RandomForestClassifier(n_estimators=100, random_state=42)\n",
        "rf.fit(x_trainSM, y_trainSM)\n",
        "\n",
        "#predicting the model\n",
        "y_predsSM=rf.predict(x_testSM)\n",
        "\n",
        "# Accuracy\n",
        "accuracy = accuracy_score(y_testSM, y_predsSM)\n",
        "print(f'Accuracy: {accuracy:.2f}')\n",
        "\n",
        "# Classification Report\n",
        "print(classification_report(y_testSM, y_predsSM))"
      ]
    },
    {
      "cell_type": "markdown",
      "metadata": {
        "id": "TLNrMGNI0MOf"
      },
      "source": [
        "even better accuracy by random forest at 97 perc"
      ]
    },
    {
      "cell_type": "code",
      "execution_count": 35,
      "metadata": {
        "id": "fTpYL1UAs7py"
      },
      "outputs": [
        {
          "name": "stdout",
          "output_type": "stream",
          "text": [
            "Best Parameters: {'max_depth': 30, 'min_samples_split': 5, 'n_estimators': 300}\n",
            "Accuracy: 0.98\n",
            "              precision    recall  f1-score   support\n",
            "\n",
            "           0       0.98      0.98      0.98     18293\n",
            "           1       0.98      0.98      0.98     18307\n",
            "\n",
            "    accuracy                           0.98     36600\n",
            "   macro avg       0.98      0.98      0.98     36600\n",
            "weighted avg       0.98      0.98      0.98     36600\n",
            "\n"
          ]
        }
      ],
      "source": [
        "from sklearn.model_selection import GridSearchCV\n",
        "\n",
        "# Define the parameter grid\n",
        "param_grid = {\n",
        "    'n_estimators': [100, 200, 300],\n",
        "    'max_depth': [10, 20, 30, None],\n",
        "    'min_samples_split': [2, 5, 10]\n",
        "}\n",
        "\n",
        "# Initialize the RandomForestClassifier\n",
        "rf = RandomForestClassifier(random_state=42)\n",
        "\n",
        "# Initialize GridSearchCV with the classifier and parameter grid\n",
        "grid_search = GridSearchCV(estimator=rf, param_grid=param_grid, cv=5, scoring='accuracy', n_jobs=-1)\n",
        "\n",
        "# Fit the model with the grid search\n",
        "grid_search.fit(x_trainSM, y_trainSM)\n",
        "\n",
        "# Get the best parameters\n",
        "print(f'Best Parameters: {grid_search.best_params_}')\n",
        "\n",
        "# Predict using the best estimator\n",
        "best_rf = grid_search.best_estimator_\n",
        "y_predsSM = best_rf.predict(x_testSM)\n",
        "\n",
        "# Accuracy\n",
        "accuracy = accuracy_score(y_testSM, y_predsSM)\n",
        "print(f'Accuracy: {accuracy:.2f}')\n",
        "\n",
        "# Classification Report\n",
        "print(classification_report(y_testSM, y_predsSM))\n"
      ]
    },
    {
      "cell_type": "markdown",
      "metadata": {
        "id": "4q7myvYR0SQC"
      },
      "source": [
        "almost same as logistic regression model"
      ]
    },
    {
      "cell_type": "markdown",
      "metadata": {
        "id": "XE5kH4ok0XDb"
      },
      "source": [
        "#Comparison of the Models"
      ]
    },
    {
      "cell_type": "markdown",
      "metadata": {
        "id": "syy8VwtB0n3_"
      },
      "source": [
        "#Inference and Conclusion"
      ]
    },
    {
      "cell_type": "markdown",
      "metadata": {
        "id": "VemZ6X5k0r7d"
      },
      "source": [
        "\n",
        "### Conclusion:\n",
        "\n",
        "- The **Random Forest** model is likely the best-performing model based on accuracy for this specific dataset, showing a slightly higher predictive performance.\n",
        "- Although **SVC** and **Logistic Regression** perform similarly, the choice between them may come down to other factors like interpretability, training time, or computational resources.\n",
        "- If interpretability is important, **Logistic Regression** might be a preferred choice since it is easier to explain. However, if you are focusing purely on performance, **Random Forest** seems to be the best model for this problem.\n",
        "- With an accuracy of 0.98 and high precision, recall, and F1-scores, this model is performing exceptionally well, making it highly reliable for classification tasks. The well-optimized hyperparameters contribute to this high performance, and the balanced dataset supports consistent results across both classes."
      ]
    }
  ],
  "metadata": {
    "colab": {
      "provenance": []
    },
    "kernelspec": {
      "display_name": "Python 3",
      "name": "python3"
    },
    "language_info": {
      "codemirror_mode": {
        "name": "ipython",
        "version": 3
      },
      "file_extension": ".py",
      "mimetype": "text/x-python",
      "name": "python",
      "nbconvert_exporter": "python",
      "pygments_lexer": "ipython3",
      "version": "3.11.5"
    }
  },
  "nbformat": 4,
  "nbformat_minor": 0
}
